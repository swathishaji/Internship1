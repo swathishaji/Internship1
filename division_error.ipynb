{
  "nbformat": 4,
  "nbformat_minor": 0,
  "metadata": {
    "colab": {
      "provenance": [],
      "authorship_tag": "ABX9TyM4nj/NdV3Jm7VGVAtdt8JU",
      "include_colab_link": true
    },
    "kernelspec": {
      "name": "python3",
      "display_name": "Python 3"
    },
    "language_info": {
      "name": "python"
    }
  },
  "cells": [
    {
      "cell_type": "markdown",
      "metadata": {
        "id": "view-in-github",
        "colab_type": "text"
      },
      "source": [
        "<a href=\"https://colab.research.google.com/github/swathishaji/Internship1/blob/main/division_error.ipynb\" target=\"_parent\"><img src=\"https://colab.research.google.com/assets/colab-badge.svg\" alt=\"Open In Colab\"/></a>"
      ]
    },
    {
      "cell_type": "code",
      "execution_count": 4,
      "metadata": {
        "colab": {
          "base_uri": "https://localhost:8080/"
        },
        "id": "MXnKCcamaRyr",
        "outputId": "dbe84f63-f1bf-42f3-fe82-8dd8de08676a"
      },
      "outputs": [
        {
          "output_type": "stream",
          "name": "stdout",
          "text": [
            "enter the first number10\n",
            "enter the second number0\n",
            "Error: Cannot divide by zero.\n"
          ]
        }
      ],
      "source": [
        "a = float(input(\"enter the first number\"))\n",
        "b = float(input(\"enter the second number\"))\n",
        "\n",
        "try:\n",
        "    result = a / b\n",
        "    print(\"The result is:\", result)\n",
        "except ZeroDivisionError:\n",
        "    print(\"Error: Cannot divide by zero.\")"
      ]
    },
    {
      "cell_type": "code",
      "source": [
        "try:\n",
        "\n",
        "  a = float(input(\"Enter the first number: \"))\n",
        "  b = float(input(\"Enter the second number: \"))\n",
        "\n",
        "  result = a/b\n",
        "  print(\"The result is:\", result)\n",
        "\n",
        "except ValueError:\n",
        "  print(\"Error: Invalid input. Please enter numeric values.\")\n",
        "except ZeroDivisionError:\n",
        "  print(\"Error: Cannot divide by zero.\")"
      ],
      "metadata": {
        "colab": {
          "base_uri": "https://localhost:8080/"
        },
        "id": "01oiKCQphot1",
        "outputId": "0a102183-46f4-4993-a651-55f7c2ca6e43"
      },
      "execution_count": 5,
      "outputs": [
        {
          "output_type": "stream",
          "name": "stdout",
          "text": [
            "Enter the first number: 5\n",
            "Enter the second number: 0\n",
            "Error: Cannot divide by zero.\n"
          ]
        }
      ]
    },
    {
      "cell_type": "code",
      "source": [
        "try:\n",
        "  f = open(\"result.txt\", \"w\")\n",
        "\n",
        "  a=float(input(\"enter the first number\"))\n",
        "  b=float(input(\"enter the second number\"))\n",
        "\n",
        "  result = a / b\n",
        "\n",
        "except ValueError:\n",
        "  print(\"Error: Invalid input. Please enter numeric values.\")\n",
        "except ZeroDivisionError:\n",
        "  print(\"Error: Cannot divide by zero.\")\n",
        "else:\n",
        "  print(\"Result:\", result)\n",
        "  f.write(f\"division result: {result}\\n\")\n",
        "finally:\n",
        "  f.close()\n",
        "  print(\"file closed\")"
      ],
      "metadata": {
        "colab": {
          "base_uri": "https://localhost:8080/"
        },
        "id": "keMdnJ-EibCW",
        "outputId": "8f05af1c-ea84-4e33-ceb9-a7f604486537"
      },
      "execution_count": 6,
      "outputs": [
        {
          "output_type": "stream",
          "name": "stdout",
          "text": [
            "enter the first number10\n",
            "enter the second number0\n",
            "Error: Cannot divide by zero.\n",
            "file closed\n"
          ]
        }
      ]
    }
  ]
}