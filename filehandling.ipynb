{
  "nbformat": 4,
  "nbformat_minor": 0,
  "metadata": {
    "colab": {
      "provenance": [],
      "authorship_tag": "ABX9TyPXWFN0JHFyPR7bJQrAATW/",
      "include_colab_link": true
    },
    "kernelspec": {
      "name": "python3",
      "display_name": "Python 3"
    },
    "language_info": {
      "name": "python"
    }
  },
  "cells": [
    {
      "cell_type": "markdown",
      "metadata": {
        "id": "view-in-github",
        "colab_type": "text"
      },
      "source": [
        "<a href=\"https://colab.research.google.com/github/swathishaji/Internship1/blob/main/filehandling.ipynb\" target=\"_parent\"><img src=\"https://colab.research.google.com/assets/colab-badge.svg\" alt=\"Open In Colab\"/></a>"
      ]
    },
    {
      "cell_type": "code",
      "execution_count": 1,
      "metadata": {
        "id": "zkE8yoYiNsCh"
      },
      "outputs": [],
      "source": [
        "f= open('notes.txt',\"w\")\n",
        "f.write(\"This is the first line.\\n\")\n",
        "f.write(\"Learning Python is fun.\\n\")\n",
        "f.write(\"Another line about data science with Python.n\")\n",
        "f.close()"
      ]
    },
    {
      "cell_type": "code",
      "source": [
        "f=open('notes.txt','r')\n",
        "for line in f:\n",
        "  if'Python' in line:\n",
        "    print(line.strip())\n",
        "f.close()"
      ],
      "metadata": {
        "colab": {
          "base_uri": "https://localhost:8080/"
        },
        "id": "0cW2bKfuVHXV",
        "outputId": "49babc87-9865-423f-9a9c-cec496c51b2d"
      },
      "execution_count": 2,
      "outputs": [
        {
          "output_type": "stream",
          "name": "stdout",
          "text": [
            "Learning Python is fun.\n",
            "Another line about data science with Python.n\n"
          ]
        }
      ]
    },
    {
      "cell_type": "code",
      "source": [
        "f=open('notes.txt','a')\n",
        "f.write(\"This is a new appended line.n\")\n",
        "f.close()"
      ],
      "metadata": {
        "id": "VVSHA_euVdH3"
      },
      "execution_count": 3,
      "outputs": []
    },
    {
      "cell_type": "code",
      "source": [
        "with open('notes.txt','r') as f:\n",
        "  print(f.read())"
      ],
      "metadata": {
        "colab": {
          "base_uri": "https://localhost:8080/"
        },
        "id": "BAHy9osxVztD",
        "outputId": "54d9e564-c14f-4ded-be60-60e130e54b93"
      },
      "execution_count": 4,
      "outputs": [
        {
          "output_type": "stream",
          "name": "stdout",
          "text": [
            "This is the first line.\n",
            "Learning Python is fun.\n",
            "Another line about data science with Python.nThis is a new appended line.n\n"
          ]
        }
      ]
    }
  ]
}