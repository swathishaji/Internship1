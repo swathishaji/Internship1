{
  "nbformat": 4,
  "nbformat_minor": 0,
  "metadata": {
    "colab": {
      "provenance": [],
      "toc_visible": true,
      "authorship_tag": "ABX9TyP2xRmgbbyejggREujx54XA",
      "include_colab_link": true
    },
    "kernelspec": {
      "name": "python3",
      "display_name": "Python 3"
    },
    "language_info": {
      "name": "python"
    }
  },
  "cells": [
    {
      "cell_type": "markdown",
      "metadata": {
        "id": "view-in-github",
        "colab_type": "text"
      },
      "source": [
        "<a href=\"https://colab.research.google.com/github/swathishaji/Internship1/blob/main/calculator.ipynb\" target=\"_parent\"><img src=\"https://colab.research.google.com/assets/colab-badge.svg\" alt=\"Open In Colab\"/></a>"
      ]
    },
    {
      "cell_type": "code",
      "execution_count": 6,
      "metadata": {
        "id": "2zA2-pFWktcM"
      },
      "outputs": [],
      "source": [
        "import os\n",
        "def add(a, b):\n",
        "    return a + b\n",
        "\n",
        "def subtract(a, b):\n",
        "    return a - b\n",
        "\n",
        "def multiply(a, b):\n",
        "    return a * b"
      ]
    },
    {
      "cell_type": "code",
      "source": [
        "import calculator\n",
        "\n",
        "result_add = calculator.add(3,5)\n",
        "result_subtract = calculator.subtract(8,5)\n",
        "result_multiply = calculator.multiply(3,7)\n",
        "\n",
        "print(f\"Addition: {result_add}\")\n",
        "print(f\"Subtraction: {result_subtract}\")\n",
        "print(f\"Multiplication: {result_multiply}\")"
      ],
      "metadata": {
        "colab": {
          "base_uri": "https://localhost:8080/"
        },
        "id": "7A8prO8bR-Rf",
        "outputId": "e56d0091-47dd-460b-bf8f-d47f26484daf"
      },
      "execution_count": 7,
      "outputs": [
        {
          "output_type": "stream",
          "name": "stdout",
          "text": [
            "Addition: 8\n",
            "Subtraction: 3\n",
            "Multiplication: 21\n"
          ]
        }
      ]
    },
    {
      "cell_type": "code",
      "source": [
        "import random\n",
        "print(dir(random))"
      ],
      "metadata": {
        "colab": {
          "base_uri": "https://localhost:8080/"
        },
        "id": "6Uvqkpc_VjkA",
        "outputId": "2bbc65de-56c9-4256-9930-978ed4f72d05"
      },
      "execution_count": 8,
      "outputs": [
        {
          "output_type": "stream",
          "name": "stdout",
          "text": [
            "['BPF', 'LOG4', 'NV_MAGICCONST', 'RECIP_BPF', 'Random', 'SG_MAGICCONST', 'SystemRandom', 'TWOPI', '_ONE', '_Sequence', '__all__', '__builtins__', '__cached__', '__doc__', '__file__', '__loader__', '__name__', '__package__', '__spec__', '_accumulate', '_acos', '_bisect', '_ceil', '_cos', '_e', '_exp', '_fabs', '_floor', '_index', '_inst', '_isfinite', '_lgamma', '_log', '_log2', '_os', '_pi', '_random', '_repeat', '_sha512', '_sin', '_sqrt', '_test', '_test_generator', '_urandom', '_warn', 'betavariate', 'binomialvariate', 'choice', 'choices', 'expovariate', 'gammavariate', 'gauss', 'getrandbits', 'getstate', 'lognormvariate', 'normalvariate', 'paretovariate', 'randbytes', 'randint', 'random', 'randrange', 'sample', 'seed', 'setstate', 'shuffle', 'triangular', 'uniform', 'vonmisesvariate', 'weibullvariate']\n"
          ]
        }
      ]
    },
    {
      "cell_type": "code",
      "source": [
        "with open(\"utils/_init_.py\",\"w\") as f :\n",
        "  pass"
      ],
      "metadata": {
        "id": "PC36HInBVtMU"
      },
      "execution_count": null,
      "outputs": []
    },
    {
      "cell_type": "code",
      "source": [
        "import os\n",
        "\n",
        "if not os.path.exists('utils'):\n",
        "    os.makedirs('utils')\n",
        "\n",
        "with open(\"utils/strings.py\",\"w\") as f :\n",
        "  f.write(\"def count_words(text):\\n\")\n",
        "  f.write(\"return len(text.split())\\n\")"
      ],
      "metadata": {
        "id": "68em2Bj4WVCN"
      },
      "execution_count": 13,
      "outputs": []
    },
    {
      "cell_type": "code",
      "source": [
        "with open(\"utils/strings.py\",\"r+\") as f :\n",
        "  f.write(\"def factorial(n):\\n\")\n",
        "  f.write(\"  if n == 0:\\n\")\n",
        "  f.write(\"    return 1\\n\")\n",
        "  f.write(\"  else:\\n\")\n",
        "  f.write(\"    return n * factorial(n-1)\\n\")"
      ],
      "metadata": {
        "id": "ewtAH2JkXOh2"
      },
      "execution_count": 16,
      "outputs": []
    },
    {
      "cell_type": "code",
      "source": [
        "import utils.strings\n",
        "import utils.numbers\n",
        "\n",
        "text = \"Python is fun and powerful.\"\n",
        "word_count = utils.strings.count_words(text)\n",
        "print(f\"Word count: {word_count}\")\n",
        "\n",
        "number = 5\n",
        "fact = utils.numbers.factorial(number)\n",
        "print(f\"Factorial of {number}:{fact}\")"
      ],
      "metadata": {
        "id": "9NVt6B33YcPc"
      },
      "execution_count": null,
      "outputs": []
    }
  ]
}